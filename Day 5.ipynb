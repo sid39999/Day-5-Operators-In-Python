{
 "cells": [
  {
   "cell_type": "markdown",
   "id": "fe96a86e",
   "metadata": {},
   "source": [
    "# Different Types of Operators in Python"
   ]
  },
  {
   "cell_type": "raw",
   "id": "2982843e",
   "metadata": {},
   "source": [
    "Operators in Python are special symbols or keywords that are used to perform operations on variables and values."
   ]
  },
  {
   "cell_type": "raw",
   "id": "d104fa73",
   "metadata": {},
   "source": [
    "So Today We are gonna learn about 6 catogries of operators.\n",
    "\n",
    "1. Arithmatic operators\n",
    "2. Comparison Operators\n",
    "3. Logical Operators\n",
    "4. Assignment Operators\n",
    "5. Identity Operators\n",
    "6. Membership operators"
   ]
  },
  {
   "cell_type": "markdown",
   "id": "991e3089",
   "metadata": {},
   "source": [
    "# Arithmetic Operators:\n",
    "\n",
    "Addition +\n",
    "Subtraction -\n",
    "Multiplication *\n",
    "Division /\n",
    "Modulus % (remainder after division)\n",
    "Exponentiation ** (power)"
   ]
  },
  {
   "cell_type": "code",
   "execution_count": 8,
   "id": "5211fc14",
   "metadata": {},
   "outputs": [
    {
     "name": "stdout",
     "output_type": "stream",
     "text": [
      "4\n",
      "9\n"
     ]
    }
   ],
   "source": [
    "print(2+2)\n",
    "print(3**2)"
   ]
  },
  {
   "cell_type": "code",
   "execution_count": 7,
   "id": "67bfd0ee",
   "metadata": {},
   "outputs": [
    {
     "name": "stdout",
     "output_type": "stream",
     "text": [
      "1\n"
     ]
    }
   ],
   "source": [
    "a = 2\n",
    "b = 3\n",
    "print(b%a)"
   ]
  },
  {
   "cell_type": "code",
   "execution_count": null,
   "id": "497a797d",
   "metadata": {},
   "outputs": [],
   "source": []
  },
  {
   "cell_type": "markdown",
   "id": "37cd32b9",
   "metadata": {},
   "source": [
    "# Comparison Operators:\n",
    "\n",
    "Equal to ==\n",
    "Not equal to !=\n",
    "Greater than >\n",
    "Less than <\n",
    "Greater than or equal to >=\n",
    "Less than or equal to <="
   ]
  },
  {
   "cell_type": "code",
   "execution_count": 10,
   "id": "b155cf25",
   "metadata": {},
   "outputs": [
    {
     "name": "stdout",
     "output_type": "stream",
     "text": [
      "False\n",
      "True\n"
     ]
    }
   ],
   "source": [
    "a = 2\n",
    "b = 3\n",
    "c = (a==b)\n",
    "d = (a!=b)\n",
    "print(c)\n",
    "print(d)"
   ]
  },
  {
   "cell_type": "code",
   "execution_count": 15,
   "id": "991c8cdb",
   "metadata": {},
   "outputs": [
    {
     "name": "stdout",
     "output_type": "stream",
     "text": [
      "True\n",
      "False\n"
     ]
    }
   ],
   "source": [
    "a = 18\n",
    "c = (a>=18)\n",
    "d = (a>18)\n",
    "print(c)\n",
    "print(d)"
   ]
  },
  {
   "cell_type": "code",
   "execution_count": null,
   "id": "7b9a984e",
   "metadata": {},
   "outputs": [],
   "source": []
  },
  {
   "cell_type": "markdown",
   "id": "239d7c1f",
   "metadata": {},
   "source": [
    "# Logical Operators:\n",
    "\n",
    "Logical AND and\n",
    "Logical OR or\n",
    "Logical NOT not"
   ]
  },
  {
   "cell_type": "code",
   "execution_count": 21,
   "id": "0141c78d",
   "metadata": {},
   "outputs": [
    {
     "name": "stdout",
     "output_type": "stream",
     "text": [
      "True\n",
      "True\n"
     ]
    }
   ],
   "source": [
    "age = 18\n",
    "height = 5\n",
    "entry = (age<19) and (height<6)\n",
    "eentry = (age<16)  or (height<6)\n",
    "print(entry)\n",
    "print(eentry)"
   ]
  },
  {
   "cell_type": "code",
   "execution_count": 25,
   "id": "53ae72fc",
   "metadata": {},
   "outputs": [
    {
     "name": "stdout",
     "output_type": "stream",
     "text": [
      "False\n"
     ]
    }
   ],
   "source": [
    "cloudy = True\n",
    "sunglasses = not cloudy\n",
    "print(sunglasses)\n"
   ]
  },
  {
   "cell_type": "code",
   "execution_count": null,
   "id": "72419ea5",
   "metadata": {},
   "outputs": [],
   "source": []
  },
  {
   "cell_type": "markdown",
   "id": "b59aae0e",
   "metadata": {},
   "source": [
    "# Assignment Operators:\n",
    "\n",
    "Assign =\n",
    "Add and assign +=\n",
    "Subtract and assign -=\n",
    "Multiply and assign *=\n",
    "Divide and assign /="
   ]
  },
  {
   "cell_type": "code",
   "execution_count": 31,
   "id": "14da57b9",
   "metadata": {},
   "outputs": [
    {
     "name": "stdout",
     "output_type": "stream",
     "text": [
      "7\n"
     ]
    }
   ],
   "source": [
    "a = 3\n",
    "a = a+4\n",
    "print(a)"
   ]
  },
  {
   "cell_type": "code",
   "execution_count": 32,
   "id": "0747e0ee",
   "metadata": {},
   "outputs": [
    {
     "name": "stdout",
     "output_type": "stream",
     "text": [
      "7\n"
     ]
    }
   ],
   "source": [
    "b = 3\n",
    "b += 4\n",
    "print(b)"
   ]
  },
  {
   "cell_type": "code",
   "execution_count": null,
   "id": "9f30e75e",
   "metadata": {},
   "outputs": [],
   "source": []
  },
  {
   "cell_type": "markdown",
   "id": "62d3e4d7",
   "metadata": {},
   "source": [
    "# Identity Operators:\n",
    "\n",
    "is (True if the operands are identical)\n",
    "is not (True if the operands are not identical)"
   ]
  },
  {
   "cell_type": "code",
   "execution_count": 37,
   "id": "fe70072d",
   "metadata": {},
   "outputs": [
    {
     "name": "stdout",
     "output_type": "stream",
     "text": [
      "True\n",
      "True\n",
      "False\n"
     ]
    }
   ],
   "source": [
    "x = 3\n",
    "y = 3\n",
    "z = x is y\n",
    "e = (x ==y)\n",
    "\n",
    "t = x is not y\n",
    "print(z)\n",
    "print(e)\n",
    "print(t)"
   ]
  },
  {
   "cell_type": "code",
   "execution_count": null,
   "id": "45ddac2d",
   "metadata": {},
   "outputs": [],
   "source": []
  },
  {
   "cell_type": "markdown",
   "id": "b5a20470",
   "metadata": {},
   "source": [
    "# Membership Operators:\n",
    "\n",
    "in (True if a value is found in the sequence)\n",
    "not in (True if a value is not found in the sequence)"
   ]
  },
  {
   "cell_type": "code",
   "execution_count": 39,
   "id": "2b5773fc",
   "metadata": {},
   "outputs": [
    {
     "name": "stdout",
     "output_type": "stream",
     "text": [
      "True\n",
      "False\n"
     ]
    }
   ],
   "source": [
    "y = [3,4,6,8,9]\n",
    "print(6 in y)\n",
    "print(2 in y)"
   ]
  },
  {
   "cell_type": "code",
   "execution_count": 40,
   "id": "fba868bf",
   "metadata": {},
   "outputs": [
    {
     "name": "stdout",
     "output_type": "stream",
     "text": [
      "False\n"
     ]
    }
   ],
   "source": [
    "print(4 not in y)"
   ]
  },
  {
   "cell_type": "raw",
   "id": "3a39afda",
   "metadata": {},
   "source": [
    "QUIZ \n",
    "\n",
    "How much you capable?"
   ]
  },
  {
   "cell_type": "raw",
   "id": "b60dc465",
   "metadata": {},
   "source": [
    "Question:\n",
    "What is the result of the following expression?\n",
    "\n",
    "python\n",
    "Copy code\n",
    "5 + 3 * 2\n",
    "a) 16\n",
    "\n",
    "b) 11\n",
    "\n",
    "c) 26\n",
    "\n",
    "d) 13"
   ]
  },
  {
   "cell_type": "code",
   "execution_count": null,
   "id": "2bf1e309",
   "metadata": {},
   "outputs": [],
   "source": []
  },
  {
   "cell_type": "raw",
   "id": "52d554d9",
   "metadata": {},
   "source": [
    "Quiz 2:\n",
    "Question:\n",
    "What will be the value of result in the following code?\n",
    "\n",
    "python\n",
    "Copy code\n",
    "a = 7\n",
    "b = 3\n",
    "result = a % b\n",
    "a) 4\n",
    "\n",
    "b) 2\n",
    "\n",
    "c) 1\n",
    "\n",
    "d) 0"
   ]
  },
  {
   "cell_type": "code",
   "execution_count": null,
   "id": "0c220bfe",
   "metadata": {},
   "outputs": [],
   "source": []
  },
  {
   "cell_type": "raw",
   "id": "77c4b544",
   "metadata": {},
   "source": [
    "Quiz 3:\n",
    "Question:\n",
    "What is the output of the following code?\n",
    "\n",
    "python\n",
    "Copy code\n",
    "x = 5\n",
    "y = 10\n",
    "print(x > 3 and y < 15)\n",
    "a) True\n",
    "\n",
    "b) False"
   ]
  },
  {
   "cell_type": "code",
   "execution_count": null,
   "id": "7998acfd",
   "metadata": {},
   "outputs": [],
   "source": []
  },
  {
   "cell_type": "code",
   "execution_count": null,
   "id": "df8c45ac",
   "metadata": {},
   "outputs": [],
   "source": []
  },
  {
   "cell_type": "code",
   "execution_count": null,
   "id": "9001b1d6",
   "metadata": {},
   "outputs": [],
   "source": []
  },
  {
   "cell_type": "markdown",
   "id": "ccb09c71",
   "metadata": {},
   "source": [
    "# answers:\n",
    "    1. 11\n",
    "    2. 1\n",
    "    3. True"
   ]
  }
 ],
 "metadata": {
  "kernelspec": {
   "display_name": "Python 3 (ipykernel)",
   "language": "python",
   "name": "python3"
  },
  "language_info": {
   "codemirror_mode": {
    "name": "ipython",
    "version": 3
   },
   "file_extension": ".py",
   "mimetype": "text/x-python",
   "name": "python",
   "nbconvert_exporter": "python",
   "pygments_lexer": "ipython3",
   "version": "3.11.5"
  }
 },
 "nbformat": 4,
 "nbformat_minor": 5
}
